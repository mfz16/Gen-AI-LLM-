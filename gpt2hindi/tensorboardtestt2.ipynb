{
 "cells": [
  {
   "cell_type": "code",
   "execution_count": 1,
   "metadata": {},
   "outputs": [],
   "source": [
    "import torch\n",
    "from torch.utils.tensorboard import SummaryWriter\n",
    "writer = SummaryWriter()"
   ]
  },
  {
   "cell_type": "code",
   "execution_count": 2,
   "metadata": {},
   "outputs": [],
   "source": [
    "x = torch.arange(-5, 5, 0.1).view(-1, 1)\n",
    "y = -5 * x + 0.1 * torch.randn(x.size())\n",
    "\n",
    "model = torch.nn.Linear(1, 1)\n",
    "criterion = torch.nn.MSELoss()\n",
    "optimizer = torch.optim.SGD(model.parameters(), lr = 0.1)\n",
    "\n",
    "def train_model(iter):\n",
    "    for epoch in range(iter):\n",
    "        y1 = model(x)\n",
    "        loss = criterion(y1, y)\n",
    "        writer.add_scalar(\"Loss/train\", loss, epoch)\n",
    "        optimizer.zero_grad()\n",
    "        loss.backward()\n",
    "        optimizer.step()\n",
    "\n",
    "train_model(10)\n",
    "writer.flush()"
   ]
  },
  {
   "cell_type": "code",
   "execution_count": 3,
   "metadata": {},
   "outputs": [],
   "source": [
    "writer.close()"
   ]
  },
  {
   "cell_type": "code",
   "execution_count": 4,
   "metadata": {},
   "outputs": [
    {
     "data": {
      "application/vnd.jupyter.widget-view+json": {
       "model_id": "7d2aa7bdc7bb4212b9abcf3b17184cc0",
       "version_major": 2,
       "version_minor": 0
      },
      "text/plain": [
       "  0%|          | 0/1500 [00:00<?, ?it/s]"
      ]
     },
     "metadata": {},
     "output_type": "display_data"
    },
    {
     "name": "stdout",
     "output_type": "stream",
     "text": [
      "{'loss': 10.7669, 'learning_rate': 2.5e-05, 'epoch': 2.0}\n",
      "{'train_runtime': 620.8907, 'train_samples_per_second': 4.832, 'train_steps_per_second': 2.416, 'train_loss': 10.432626302083333, 'epoch': 3.0}\n"
     ]
    }
   ],
   "source": [
    "import torch\n",
    "from torch.utils.data import Dataset, DataLoader\n",
    "from transformers import GPT2Tokenizer, GPT2LMHeadModel, Trainer, TrainingArguments\n",
    "#from tensorboardX import SummaryWriter\n",
    "from torch.utils.tensorboard import SummaryWriter\n",
    "\n",
    "# Define your custom callback for logging\n",
    "\n",
    "\n",
    "# Define your custom callback for logging\n",
    "from transformers import TrainerCallback\n",
    "class CustomTensorBoardCallback(TrainerCallback):\n",
    "    def __init__(self, writer):\n",
    "        self.writer = writer\n",
    "\n",
    "    def on_step(self, args, state, control, model, optimizer, step):\n",
    "        # Log custom metrics using self.writer.add_scalar()\n",
    "        self.writer.add_scalar(\"custom_metric\", state.log_history[-1][\"custom_metric\"], step)\n",
    "\n",
    "\n",
    "\n",
    "# Define a custom dataset class for training\n",
    "class CustomTrainingDataset(Dataset):\n",
    "    def __init__(self, tokenizer, num_samples=1000, sequence_length=20):\n",
    "        self.num_samples = num_samples\n",
    "        self.sequence_length = sequence_length\n",
    "        self.tokenizer = tokenizer\n",
    "\n",
    "        # Generate random sequences as training data\n",
    "        self.data = [torch.randint(0, tokenizer.vocab_size, (self.sequence_length,)) for _ in range(num_samples)]\n",
    "\n",
    "    def __len__(self):\n",
    "        return self.num_samples\n",
    "\n",
    "    def __getitem__(self, idx):\n",
    "        input_ids = self.data[idx]\n",
    "        attention_mask = torch.ones_like(input_ids)  # Dummy attention mask\n",
    "        return {\n",
    "            \"input_ids\": input_ids,\n",
    "            \"attention_mask\": attention_mask,\n",
    "            \"labels\": input_ids,  # For language modeling, labels are usually the same as input_ids\n",
    "        }\n",
    "\n",
    "class CustomEvaluationDataset(Dataset):\n",
    "    def __init__(self, tokenizer, num_samples=200, sequence_length=20):\n",
    "        self.num_samples = num_samples\n",
    "        self.sequence_length = sequence_length\n",
    "        self.tokenizer = tokenizer\n",
    "\n",
    "        # Generate random sequences as evaluation data\n",
    "        self.data = [torch.randint(0, tokenizer.vocab_size, (self.sequence_length,)) for _ in range(num_samples)]\n",
    "\n",
    "    def __len__(self):\n",
    "        return self.num_samples\n",
    "\n",
    "    def __getitem__(self, idx):\n",
    "        input_ids = self.data[idx]\n",
    "        attention_mask = torch.ones_like(input_ids)  # Dummy attention mask\n",
    "        return {\n",
    "            \"input_ids\": input_ids,\n",
    "            \"attention_mask\": attention_mask,\n",
    "            \"labels\": input_ids,  # For language modeling, labels are usually the same as input_ids\n",
    "        }\n",
    "\n",
    "# Step 1: Load a pre-trained GPT-2 model\n",
    "model = GPT2LMHeadModel.from_pretrained(\"gpt2\")\n",
    "\n",
    "# Step 2: Initialize the tokenizer\n",
    "tokenizer = GPT2Tokenizer.from_pretrained(\"gpt2\")\n",
    "\n",
    "# Create instances of the custom datasets\n",
    "train_dataset = CustomTrainingDataset(tokenizer, num_samples=1000, sequence_length=20)\n",
    "eval_dataset = CustomEvaluationDataset(tokenizer, num_samples=200, sequence_length=20)\n",
    "\n",
    "\n",
    "# Set up TensorBoard logging\n",
    "log_dir = \"runs/my_experiment_1\"\n",
    "writer = SummaryWriter()\n",
    "\n",
    "# Define training arguments\n",
    "training_args = TrainingArguments(\n",
    "    output_dir=\"outresults\",\n",
    "    overwrite_output_dir=True,\n",
    "    num_train_epochs=3,\n",
    "    per_device_train_batch_size=2,\n",
    "    per_device_eval_batch_size=2,\n",
    "    warmup_steps=500,\n",
    "    weight_decay=0.01,\n",
    "    logging_dir=log_dir,\n",
    "    logging_steps=1000,\n",
    "    save_steps=5000,\n",
    "    evaluation_strategy='steps',\n",
    "    eval_steps=5000,\n",
    "    load_best_model_at_end=True,\n",
    "    report_to='tensorboard',\n",
    ")\n",
    "\n",
    "# Create data loaders for training and evaluation\n",
    "train_loader = DataLoader(train_dataset, batch_size=training_args.per_device_train_batch_size, shuffle=True)\n",
    "eval_loader = DataLoader(eval_dataset, batch_size=training_args.per_device_eval_batch_size)\n",
    "\n",
    "# Create a Trainer with the TensorBoardXCallback\n",
    "trainer = Trainer(\n",
    "    model=model,\n",
    "    args=training_args,\n",
    "    train_dataset=train_dataset,  # Use the DataLoader\n",
    "    eval_dataset=eval_dataset,    # Use the DataLoader\n",
    "    data_collator=None,\n",
    "    callbacks=[CustomTensorBoardCallback(writer)]\n",
    ")\n",
    "\n",
    "# Train the model\n",
    "trainer.train()\n",
    "\n",
    "# Close the TensorBoard writer\n",
    "writer.close()"
   ]
  },
  {
   "cell_type": "code",
   "execution_count": null,
   "metadata": {},
   "outputs": [],
   "source": []
  }
 ],
 "metadata": {
  "kernelspec": {
   "display_name": "open_ai",
   "language": "python",
   "name": "python3"
  },
  "language_info": {
   "codemirror_mode": {
    "name": "ipython",
    "version": 3
   },
   "file_extension": ".py",
   "mimetype": "text/x-python",
   "name": "python",
   "nbconvert_exporter": "python",
   "pygments_lexer": "ipython3",
   "version": "3.11.5"
  }
 },
 "nbformat": 4,
 "nbformat_minor": 2
}
