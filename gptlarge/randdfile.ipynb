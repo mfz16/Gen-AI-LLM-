{
 "cells": [
  {
   "cell_type": "code",
   "execution_count": 3,
   "metadata": {},
   "outputs": [],
   "source": [
    "from transformers import AutoTokenizer, GPT2LMHeadModel"
   ]
  },
  {
   "cell_type": "code",
   "execution_count": 4,
   "metadata": {},
   "outputs": [],
   "source": [
    "from transformers import GPT2Tokenizer\n",
    "model=GPT2LMHeadModel.from_pretrained('gpt2')\n",
    "tokenizer=GPT2Tokenizer.from_pretrained('gpt2')"
   ]
  },
  {
   "cell_type": "code",
   "execution_count": 5,
   "metadata": {},
   "outputs": [
    {
     "name": "stdout",
     "output_type": "stream",
     "text": [
      "[NAME] Vijay Pune: [MESSAGE] Welcome to our new recuite\n",
      "\n",
      "[NAME] Vijay Pune: [MESSAGE] Mr.Faraz\n",
      "\n",
      "[NAME] Faraz: [MESSAGE] Wah Group\n",
      "\n",
      "[NAME] Vijay Pune: [MESSAGE] Cadet Faraz\n",
      "\n",
      "[NAME] Faraz: [MESSAGE] 👍\n",
      "\n"
     ]
    }
   ],
   "source": [
    "with open(\"d:/test/chat/chat_data_tok.txt\", \"r\", encoding=\"utf-8\") as file:\n",
    "    lines = file.readlines()\n",
    "\n",
    "# Print the first few lines of the dataset\n",
    "for line in lines[:5]:\n",
    "    print(line)"
   ]
  },
  {
   "cell_type": "code",
   "execution_count": 6,
   "metadata": {},
   "outputs": [
    {
     "name": "stdout",
     "output_type": "stream",
     "text": [
      "{'input_ids': tensor([[   58, 20608,    60, 49219,   323,   350,  1726,    25,   685,    44,\n",
      "          1546,  4090,  8264,    60, 19134,   284,   674,   649,   664,    84,\n",
      "           578,   198]]), 'attention_mask': tensor([[1, 1, 1, 1, 1, 1, 1, 1, 1, 1, 1, 1, 1, 1, 1, 1, 1, 1, 1, 1, 1, 1]])}\n",
      "{'input_ids': tensor([[   58, 20608,    60, 49219,   323,   350,  1726,    25,   685,    44,\n",
      "          1546,  4090,  8264,    60,  1770,    13, 21428,  1031,   198]]), 'attention_mask': tensor([[1, 1, 1, 1, 1, 1, 1, 1, 1, 1, 1, 1, 1, 1, 1, 1, 1, 1, 1]])}\n",
      "{'input_ids': tensor([[   58, 20608,    60,  6755,  1031,    25,   685,    44,  1546,  4090,\n",
      "          8264,    60, 35893,  4912,   198]]), 'attention_mask': tensor([[1, 1, 1, 1, 1, 1, 1, 1, 1, 1, 1, 1, 1, 1, 1]])}\n",
      "{'input_ids': tensor([[   58, 20608,    60, 49219,   323,   350,  1726,    25,   685,    44,\n",
      "          1546,  4090,  8264,    60, 20517,   316,  6755,  1031,   198]]), 'attention_mask': tensor([[1, 1, 1, 1, 1, 1, 1, 1, 1, 1, 1, 1, 1, 1, 1, 1, 1, 1, 1]])}\n",
      "{'input_ids': tensor([[   58, 20608,    60,  6755,  1031,    25,   685,    44,  1546,  4090,\n",
      "          8264,    60, 50169,   235,   198]]), 'attention_mask': tensor([[1, 1, 1, 1, 1, 1, 1, 1, 1, 1, 1, 1, 1, 1, 1]])}\n"
     ]
    }
   ],
   "source": [
    "# Tokenize and print the first few samples\n",
    "for line in lines[:5]:\n",
    "    tokens = tokenizer(line, return_tensors=\"pt\")\n",
    "    print(tokens)"
   ]
  },
  {
   "cell_type": "code",
   "execution_count": 8,
   "metadata": {},
   "outputs": [
    {
     "name": "stdout",
     "output_type": "stream",
     "text": [
      "Vijay Pune\t\"Welcome to our new recuite\n",
      "\n",
      "\"\n",
      "\n",
      "Vijay Pune\t\"Mr.Faraz\n",
      "\n",
      "\"\n",
      "\n",
      "Faraz\t\"Wah Group\n",
      "\n"
     ]
    }
   ],
   "source": [
    "with open(\"d:/test/chat/chat_in_txt.txt\", \"r\", encoding=\"utf-8\") as file:\n",
    "    lines = file.readlines()\n",
    "\n",
    "# Print the first few lines of the dataset\n",
    "for line in lines[5:10]:\n",
    "    print(line)"
   ]
  }
 ],
 "metadata": {
  "kernelspec": {
   "display_name": "open_ai",
   "language": "python",
   "name": "python3"
  },
  "language_info": {
   "codemirror_mode": {
    "name": "ipython",
    "version": 3
   },
   "file_extension": ".py",
   "mimetype": "text/x-python",
   "name": "python",
   "nbconvert_exporter": "python",
   "pygments_lexer": "ipython3",
   "version": "3.11.5"
  },
  "orig_nbformat": 4
 },
 "nbformat": 4,
 "nbformat_minor": 2
}
